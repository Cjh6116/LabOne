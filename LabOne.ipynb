{
  "nbformat": 4,
  "nbformat_minor": 0,
  "metadata": {
    "colab": {
      "name": "LabOne.ipynb",
      "provenance": [],
      "collapsed_sections": [],
      "authorship_tag": "ABX9TyOsOHU9P/0tA27e5vezF0KT",
      "include_colab_link": true
    },
    "kernelspec": {
      "name": "python3",
      "display_name": "Python 3"
    }
  },
  "cells": [
    {
      "cell_type": "markdown",
      "metadata": {
        "id": "view-in-github",
        "colab_type": "text"
      },
      "source": [
        "<a href=\"https://colab.research.google.com/github/Cjh6116/LabOne/blob/master/LabOne.ipynb\" target=\"_parent\"><img src=\"https://colab.research.google.com/assets/colab-badge.svg\" alt=\"Open In Colab\"/></a>"
      ]
    },
    {
      "cell_type": "markdown",
      "metadata": {
        "id": "quV6p5IP6wsU",
        "colab_type": "text"
      },
      "source": [
        "### Lab One"
      ]
    },
    {
      "cell_type": "markdown",
      "metadata": {
        "id": "befwXSme60Ds",
        "colab_type": "text"
      },
      "source": [
        "#### Description \n",
        "I am going to take the average snowfall of each year and plot each point to see if there is a decline in the amount of snow to see if climage change is affecting the results over a three year period. The X-axis will be the dates in years and, on the Y-axis, will be the average snowfall in inches. "
      ]
    },
    {
      "cell_type": "markdown",
      "metadata": {
        "id": "ibRaVW1u7YpM",
        "colab_type": "text"
      },
      "source": [
        "#### Chart \n",
        "![Average Snowfall](https://raw.githubusercontent.com/Cjh6116/LabOne/master/Images/Screen%20Shot%202020-01-24%20at%2012.20.01%20PM.png)"
      ]
    },
    {
      "cell_type": "markdown",
      "metadata": {
        "id": "x11QZ2sQ7qT6",
        "colab_type": "text"
      },
      "source": [
        "#### Conclusion \n",
        "After taking the average snowfall throughout a three-year period I have noticed that the data shows about a constant trend. The snowfall increased a miniscule amount in 2018 and declined to an average of one inch in 2019, fluctuating 0.07 of an inch. Looking back, this wasn't the best depiction seeing as it only covers a three-year period."
      ]
    }
  ]
}